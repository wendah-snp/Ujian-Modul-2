{
 "metadata": {
  "language_info": {
   "codemirror_mode": {
    "name": "ipython",
    "version": 3
   },
   "file_extension": ".py",
   "mimetype": "text/x-python",
   "name": "python",
   "nbconvert_exporter": "python",
   "pygments_lexer": "ipython3",
   "version": "3.9.4"
  },
  "orig_nbformat": 2,
  "kernelspec": {
   "name": "python394jvsc74a57bd0b9621b127d0b2990a4b17d2662b551a90b69c6a966ee859cff1d84ecd67d1517",
   "display_name": "Python 3.9.4 64-bit"
  },
  "metadata": {
   "interpreter": {
    "hash": "b9621b127d0b2990a4b17d2662b551a90b69c6a966ee859cff1d84ecd67d1517"
   }
  }
 },
 "nbformat": 4,
 "nbformat_minor": 2,
 "cells": [
  {
   "cell_type": "code",
   "execution_count": 3,
   "metadata": {},
   "outputs": [],
   "source": [
    "import mysql.connector\n",
    "import pandas as pd"
   ]
  },
  {
   "cell_type": "code",
   "execution_count": 8,
   "metadata": {},
   "outputs": [],
   "source": [
    "mydb = mysql.connector.connect(\n",
    "    host = 'localhost',\n",
    "    user = 'root',\n",
    "    passwd = 'root',\n",
    "    database = 'sakila'\n",
    ")"
   ]
  },
  {
   "cell_type": "code",
   "execution_count": 9,
   "metadata": {},
   "outputs": [],
   "source": [
    "mycursor = mydb.cursor()\n",
    "def sql_df(yourQuery):\n",
    "    mycursor.execute(yourQuery)\n",
    "    myresult = mycursor.fetchall()\n",
    "    df = pd.DataFrame(myresult, columns=mycursor.column_names)\n",
    "    return df"
   ]
  },
  {
   "cell_type": "code",
   "execution_count": 10,
   "metadata": {},
   "outputs": [
    {
     "output_type": "execute_result",
     "data": {
      "text/plain": [
       "              Tables_in_sakila\n",
       "0                        actor\n",
       "1                   actor_info\n",
       "2                      address\n",
       "3                     category\n",
       "4                         city\n",
       "5                      country\n",
       "6                     customer\n",
       "7                customer_list\n",
       "8                         film\n",
       "9                   film_actor\n",
       "10               film_category\n",
       "11                   film_list\n",
       "12                   film_text\n",
       "13                   inventory\n",
       "14                    language\n",
       "15  nicer_but_slower_film_list\n",
       "16                     payment\n",
       "17                      rental\n",
       "18      sales_by_film_category\n",
       "19              sales_by_store\n",
       "20                       staff\n",
       "21                  staff_list\n",
       "22                       store"
      ],
      "text/html": "<div>\n<style scoped>\n    .dataframe tbody tr th:only-of-type {\n        vertical-align: middle;\n    }\n\n    .dataframe tbody tr th {\n        vertical-align: top;\n    }\n\n    .dataframe thead th {\n        text-align: right;\n    }\n</style>\n<table border=\"1\" class=\"dataframe\">\n  <thead>\n    <tr style=\"text-align: right;\">\n      <th></th>\n      <th>Tables_in_sakila</th>\n    </tr>\n  </thead>\n  <tbody>\n    <tr>\n      <th>0</th>\n      <td>actor</td>\n    </tr>\n    <tr>\n      <th>1</th>\n      <td>actor_info</td>\n    </tr>\n    <tr>\n      <th>2</th>\n      <td>address</td>\n    </tr>\n    <tr>\n      <th>3</th>\n      <td>category</td>\n    </tr>\n    <tr>\n      <th>4</th>\n      <td>city</td>\n    </tr>\n    <tr>\n      <th>5</th>\n      <td>country</td>\n    </tr>\n    <tr>\n      <th>6</th>\n      <td>customer</td>\n    </tr>\n    <tr>\n      <th>7</th>\n      <td>customer_list</td>\n    </tr>\n    <tr>\n      <th>8</th>\n      <td>film</td>\n    </tr>\n    <tr>\n      <th>9</th>\n      <td>film_actor</td>\n    </tr>\n    <tr>\n      <th>10</th>\n      <td>film_category</td>\n    </tr>\n    <tr>\n      <th>11</th>\n      <td>film_list</td>\n    </tr>\n    <tr>\n      <th>12</th>\n      <td>film_text</td>\n    </tr>\n    <tr>\n      <th>13</th>\n      <td>inventory</td>\n    </tr>\n    <tr>\n      <th>14</th>\n      <td>language</td>\n    </tr>\n    <tr>\n      <th>15</th>\n      <td>nicer_but_slower_film_list</td>\n    </tr>\n    <tr>\n      <th>16</th>\n      <td>payment</td>\n    </tr>\n    <tr>\n      <th>17</th>\n      <td>rental</td>\n    </tr>\n    <tr>\n      <th>18</th>\n      <td>sales_by_film_category</td>\n    </tr>\n    <tr>\n      <th>19</th>\n      <td>sales_by_store</td>\n    </tr>\n    <tr>\n      <th>20</th>\n      <td>staff</td>\n    </tr>\n    <tr>\n      <th>21</th>\n      <td>staff_list</td>\n    </tr>\n    <tr>\n      <th>22</th>\n      <td>store</td>\n    </tr>\n  </tbody>\n</table>\n</div>"
     },
     "metadata": {},
     "execution_count": 10
    }
   ],
   "source": [
    "sql_df(\n",
    "    'show tables;'\n",
    ")"
   ]
  },
  {
   "cell_type": "code",
   "execution_count": 26,
   "metadata": {},
   "outputs": [
    {
     "output_type": "execute_result",
     "data": {
      "text/plain": [
       "                 TITLE  LENGTH\n",
       "0  RIDGEMONT SUBMARINE      46\n",
       "1            IRON MOON      46\n",
       "2         ALIEN CENTER      46\n",
       "3     LABYRINTH LEAGUE      46\n",
       "4        KWAI HOMEWARD      46\n",
       "5      DOWNHILL ENOUGH      47\n",
       "6       HALLOWEEN NUTS      47\n",
       "7       HANOVER GALAXY      47\n",
       "8      DIVORCE SHINING      47\n",
       "9           HAWK CHILL      47"
      ],
      "text/html": "<div>\n<style scoped>\n    .dataframe tbody tr th:only-of-type {\n        vertical-align: middle;\n    }\n\n    .dataframe tbody tr th {\n        vertical-align: top;\n    }\n\n    .dataframe thead th {\n        text-align: right;\n    }\n</style>\n<table border=\"1\" class=\"dataframe\">\n  <thead>\n    <tr style=\"text-align: right;\">\n      <th></th>\n      <th>TITLE</th>\n      <th>LENGTH</th>\n    </tr>\n  </thead>\n  <tbody>\n    <tr>\n      <th>0</th>\n      <td>RIDGEMONT SUBMARINE</td>\n      <td>46</td>\n    </tr>\n    <tr>\n      <th>1</th>\n      <td>IRON MOON</td>\n      <td>46</td>\n    </tr>\n    <tr>\n      <th>2</th>\n      <td>ALIEN CENTER</td>\n      <td>46</td>\n    </tr>\n    <tr>\n      <th>3</th>\n      <td>LABYRINTH LEAGUE</td>\n      <td>46</td>\n    </tr>\n    <tr>\n      <th>4</th>\n      <td>KWAI HOMEWARD</td>\n      <td>46</td>\n    </tr>\n    <tr>\n      <th>5</th>\n      <td>DOWNHILL ENOUGH</td>\n      <td>47</td>\n    </tr>\n    <tr>\n      <th>6</th>\n      <td>HALLOWEEN NUTS</td>\n      <td>47</td>\n    </tr>\n    <tr>\n      <th>7</th>\n      <td>HANOVER GALAXY</td>\n      <td>47</td>\n    </tr>\n    <tr>\n      <th>8</th>\n      <td>DIVORCE SHINING</td>\n      <td>47</td>\n    </tr>\n    <tr>\n      <th>9</th>\n      <td>HAWK CHILL</td>\n      <td>47</td>\n    </tr>\n  </tbody>\n</table>\n</div>"
     },
     "metadata": {},
     "execution_count": 26
    }
   ],
   "source": [
    "# soal nomor 1\n",
    "sql_df(\n",
    "    'SELECT TITLE, LENGTH FROM FILM ORDER BY LENGTH ASC LIMIT 10;'\n",
    ")"
   ]
  },
  {
   "cell_type": "code",
   "execution_count": 45,
   "metadata": {},
   "outputs": [
    {
     "output_type": "execute_result",
     "data": {
      "text/plain": [
       "       category\n",
       "0        Action\n",
       "1     Animation\n",
       "2      Children\n",
       "3      Classics\n",
       "4        Comedy\n",
       "5   Documentary\n",
       "6         Drama\n",
       "7        Family\n",
       "8       Foreign\n",
       "9         Games\n",
       "10       Horror\n",
       "11        Music\n",
       "12          New\n",
       "13       Sci-Fi\n",
       "14       Sports\n",
       "15       Travel"
      ],
      "text/html": "<div>\n<style scoped>\n    .dataframe tbody tr th:only-of-type {\n        vertical-align: middle;\n    }\n\n    .dataframe tbody tr th {\n        vertical-align: top;\n    }\n\n    .dataframe thead th {\n        text-align: right;\n    }\n</style>\n<table border=\"1\" class=\"dataframe\">\n  <thead>\n    <tr style=\"text-align: right;\">\n      <th></th>\n      <th>category</th>\n    </tr>\n  </thead>\n  <tbody>\n    <tr>\n      <th>0</th>\n      <td>Action</td>\n    </tr>\n    <tr>\n      <th>1</th>\n      <td>Animation</td>\n    </tr>\n    <tr>\n      <th>2</th>\n      <td>Children</td>\n    </tr>\n    <tr>\n      <th>3</th>\n      <td>Classics</td>\n    </tr>\n    <tr>\n      <th>4</th>\n      <td>Comedy</td>\n    </tr>\n    <tr>\n      <th>5</th>\n      <td>Documentary</td>\n    </tr>\n    <tr>\n      <th>6</th>\n      <td>Drama</td>\n    </tr>\n    <tr>\n      <th>7</th>\n      <td>Family</td>\n    </tr>\n    <tr>\n      <th>8</th>\n      <td>Foreign</td>\n    </tr>\n    <tr>\n      <th>9</th>\n      <td>Games</td>\n    </tr>\n    <tr>\n      <th>10</th>\n      <td>Horror</td>\n    </tr>\n    <tr>\n      <th>11</th>\n      <td>Music</td>\n    </tr>\n    <tr>\n      <th>12</th>\n      <td>New</td>\n    </tr>\n    <tr>\n      <th>13</th>\n      <td>Sci-Fi</td>\n    </tr>\n    <tr>\n      <th>14</th>\n      <td>Sports</td>\n    </tr>\n    <tr>\n      <th>15</th>\n      <td>Travel</td>\n    </tr>\n  </tbody>\n</table>\n</div>"
     },
     "metadata": {},
     "execution_count": 45
    }
   ],
   "source": [
    "# soal nomor 2\n",
    "sql_df(\n",
    "    'select name as category from category;'\n",
    ")"
   ]
  },
  {
   "cell_type": "code",
   "execution_count": 52,
   "metadata": {},
   "outputs": [
    {
     "output_type": "execute_result",
     "data": {
      "text/plain": [
       "       rental_id rataHargaSewa\n",
       "0            NaN      1.990000\n",
       "1            1.0      2.990000\n",
       "2            2.0      2.990000\n",
       "3            3.0      3.990000\n",
       "4            4.0      4.990000\n",
       "...          ...           ...\n",
       "16040    16045.0      0.990000\n",
       "16041    16046.0      0.990000\n",
       "16042    16047.0      0.990000\n",
       "16043    16048.0      8.990000\n",
       "16044    16049.0      3.990000\n",
       "\n",
       "[16045 rows x 2 columns]"
      ],
      "text/html": "<div>\n<style scoped>\n    .dataframe tbody tr th:only-of-type {\n        vertical-align: middle;\n    }\n\n    .dataframe tbody tr th {\n        vertical-align: top;\n    }\n\n    .dataframe thead th {\n        text-align: right;\n    }\n</style>\n<table border=\"1\" class=\"dataframe\">\n  <thead>\n    <tr style=\"text-align: right;\">\n      <th></th>\n      <th>rental_id</th>\n      <th>rataHargaSewa</th>\n    </tr>\n  </thead>\n  <tbody>\n    <tr>\n      <th>0</th>\n      <td>NaN</td>\n      <td>1.990000</td>\n    </tr>\n    <tr>\n      <th>1</th>\n      <td>1.0</td>\n      <td>2.990000</td>\n    </tr>\n    <tr>\n      <th>2</th>\n      <td>2.0</td>\n      <td>2.990000</td>\n    </tr>\n    <tr>\n      <th>3</th>\n      <td>3.0</td>\n      <td>3.990000</td>\n    </tr>\n    <tr>\n      <th>4</th>\n      <td>4.0</td>\n      <td>4.990000</td>\n    </tr>\n    <tr>\n      <th>...</th>\n      <td>...</td>\n      <td>...</td>\n    </tr>\n    <tr>\n      <th>16040</th>\n      <td>16045.0</td>\n      <td>0.990000</td>\n    </tr>\n    <tr>\n      <th>16041</th>\n      <td>16046.0</td>\n      <td>0.990000</td>\n    </tr>\n    <tr>\n      <th>16042</th>\n      <td>16047.0</td>\n      <td>0.990000</td>\n    </tr>\n    <tr>\n      <th>16043</th>\n      <td>16048.0</td>\n      <td>8.990000</td>\n    </tr>\n    <tr>\n      <th>16044</th>\n      <td>16049.0</td>\n      <td>3.990000</td>\n    </tr>\n  </tbody>\n</table>\n<p>16045 rows × 2 columns</p>\n</div>"
     },
     "metadata": {},
     "execution_count": 52
    }
   ],
   "source": [
    "sql_df('select rental_id, avg(amount) as rataHargaSewa from payment group by rental_id;')"
   ]
  },
  {
   "cell_type": "code",
   "execution_count": 53,
   "metadata": {},
   "outputs": [
    {
     "output_type": "execute_result",
     "data": {
      "text/plain": [
       "     actor_id first_name     last_name\n",
       "0           1   PENELOPE       GUINESS\n",
       "1           2       NICK      WAHLBERG\n",
       "2           3         ED         CHASE\n",
       "3           4   JENNIFER         DAVIS\n",
       "4           5     JOHNNY  LOLLOBRIGIDA\n",
       "..        ...        ...           ...\n",
       "195       196       BELA        WALKEN\n",
       "196       197      REESE          WEST\n",
       "197       198       MARY        KEITEL\n",
       "198       199      JULIA       FAWCETT\n",
       "199       200      THORA        TEMPLE\n",
       "\n",
       "[200 rows x 3 columns]"
      ],
      "text/html": "<div>\n<style scoped>\n    .dataframe tbody tr th:only-of-type {\n        vertical-align: middle;\n    }\n\n    .dataframe tbody tr th {\n        vertical-align: top;\n    }\n\n    .dataframe thead th {\n        text-align: right;\n    }\n</style>\n<table border=\"1\" class=\"dataframe\">\n  <thead>\n    <tr style=\"text-align: right;\">\n      <th></th>\n      <th>actor_id</th>\n      <th>first_name</th>\n      <th>last_name</th>\n    </tr>\n  </thead>\n  <tbody>\n    <tr>\n      <th>0</th>\n      <td>1</td>\n      <td>PENELOPE</td>\n      <td>GUINESS</td>\n    </tr>\n    <tr>\n      <th>1</th>\n      <td>2</td>\n      <td>NICK</td>\n      <td>WAHLBERG</td>\n    </tr>\n    <tr>\n      <th>2</th>\n      <td>3</td>\n      <td>ED</td>\n      <td>CHASE</td>\n    </tr>\n    <tr>\n      <th>3</th>\n      <td>4</td>\n      <td>JENNIFER</td>\n      <td>DAVIS</td>\n    </tr>\n    <tr>\n      <th>4</th>\n      <td>5</td>\n      <td>JOHNNY</td>\n      <td>LOLLOBRIGIDA</td>\n    </tr>\n    <tr>\n      <th>...</th>\n      <td>...</td>\n      <td>...</td>\n      <td>...</td>\n    </tr>\n    <tr>\n      <th>195</th>\n      <td>196</td>\n      <td>BELA</td>\n      <td>WALKEN</td>\n    </tr>\n    <tr>\n      <th>196</th>\n      <td>197</td>\n      <td>REESE</td>\n      <td>WEST</td>\n    </tr>\n    <tr>\n      <th>197</th>\n      <td>198</td>\n      <td>MARY</td>\n      <td>KEITEL</td>\n    </tr>\n    <tr>\n      <th>198</th>\n      <td>199</td>\n      <td>JULIA</td>\n      <td>FAWCETT</td>\n    </tr>\n    <tr>\n      <th>199</th>\n      <td>200</td>\n      <td>THORA</td>\n      <td>TEMPLE</td>\n    </tr>\n  </tbody>\n</table>\n<p>200 rows × 3 columns</p>\n</div>"
     },
     "metadata": {},
     "execution_count": 53
    }
   ],
   "source": [
    "# soal nomor 3\n",
    "sql_df(\n",
    "    'select actor_id, first_name, last_name from actor;'\n",
    ")"
   ]
  },
  {
   "cell_type": "code",
   "execution_count": 57,
   "metadata": {},
   "outputs": [],
   "source": [
    "# soal nomor 4"
   ]
  }
 ]
}